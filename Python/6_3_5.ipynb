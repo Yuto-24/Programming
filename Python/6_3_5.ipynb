{
 "cells": [
  {
   "cell_type": "markdown",
   "metadata": {},
   "source": [
    "# 6.3.5 不変オブジェクト\n",
    "\n",
    "独立性が崩れないケースも存在する\n",
    "\n",
    "(文字列を引き渡しても悪影響が起きない)\n",
    "\n",
    "---\n",
    "\n",
    "## 例1"
   ]
  },
  {
   "cell_type": "code",
   "execution_count": null,
   "metadata": {},
   "outputs": [],
   "source": [
    "def add_suffix(name):\n",
    "    name = name + 'さん'\n",
    "    return name\n",
    "\n",
    "before_name = 'さんま'\n",
    "after_name = add_suffix(before_name)\n",
    "print('さん付け後: ' + after_name)\n",
    "print('さん付け前: ' + before_name)"
   ]
  },
  {
   "cell_type": "markdown",
   "metadata": {},
   "source": [
    "---\n",
    "\n",
    "防御的コピーをしていないにもかかわらず，さんが付かないことが確認できた．\n",
    "\n",
    "### 普遍性によるオブジェクトの分類\n",
    "\n",
    "* 可変(mutable)オブジェクト: 中身の値や属性を書き換えられる\n",
    "* 不変(immutable)オブジェクト: 中身の値や属性を書き換えられない\n",
    "\n",
    "### オブジェクトが不変となる代表的な型\n",
    "\n",
    "* int, str, bool型などの標準的な型\n",
    "* tuple型\n",
    "\n",
    "=> 文字列は不変の型になる…けれど書き換えられた"
   ]
  },
  {
   "cell_type": "markdown",
   "metadata": {},
   "source": [
    "---\n",
    "\n",
    "* int型やstr型のような不変オブジェクトは，一度オブジェクトが生まれたら，その後は絶対に内容を書き換えられない\n",
    "* 無理やり書き換えようとすると，新しいオブジェクトが作成され，古いオブジェクトは破棄される\n",
    "\n",
    "## 例2"
   ]
  },
  {
   "cell_type": "code",
   "execution_count": null,
   "metadata": {},
   "outputs": [],
   "source": [
    "def isequal(a, b):\n",
    "    if a == b:\n",
    "        return True\n",
    "    else:\n",
    "        return False\n",
    "\n",
    "names = list()\n",
    "print(\"Before change::list: {}\".format(id(names)))\n",
    "names.append(\"Matsuda\")\n",
    "print(\"After change::list: {}\".format(id(names)))\n",
    "\n",
    "name = \"Matsuda\"\n",
    "print(\"Before change::str: {}\".format(id(name)))\n",
    "name = \"New\" + name\n",
    "print(\"After change::str: {}\".format(id(name)))\n"
   ]
  }
 ],
 "metadata": {
  "interpreter": {
   "hash": "b3ba2566441a7c06988d0923437866b63cedc61552a5af99d1f4fb67d367b25f"
  },
  "kernelspec": {
   "display_name": "Python 3.8.8 64-bit ('base': conda)",
   "language": "python",
   "name": "python3"
  },
  "language_info": {
   "codemirror_mode": {
    "name": "ipython",
    "version": 3
   },
   "file_extension": ".py",
   "mimetype": "text/x-python",
   "name": "python",
   "nbconvert_exporter": "python",
   "pygments_lexer": "ipython3",
   "version": "3.8.8"
  },
  "orig_nbformat": 4
 },
 "nbformat": 4,
 "nbformat_minor": 2
}
