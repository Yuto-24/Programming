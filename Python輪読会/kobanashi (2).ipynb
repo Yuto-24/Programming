{
 "cells": [
  {
   "cell_type": "markdown",
   "metadata": {},
   "source": [
    "# `sum()`の挙動について"
   ]
  },
  {
   "cell_type": "markdown",
   "metadata": {},
   "source": [
    "組み込み関数である`sum()`は実は数の総和だけでなく、様々なことができる。  \n",
    "まずは、書籍に記載されている使い方の`sum()`を見てみよう。"
   ]
  },
  {
   "cell_type": "code",
   "execution_count": null,
   "metadata": {},
   "outputs": [],
   "source": [
    "# よくある数の総和を求める計算\n",
    "print(sum([1, 2, 3, 4, 5]))"
   ]
  },
  {
   "cell_type": "markdown",
   "metadata": {},
   "source": [
    "じつは数の総和以外にも`list`同士の結合もできる。  \n",
    "実際に見てみよう。"
   ]
  },
  {
   "cell_type": "code",
   "execution_count": null,
   "metadata": {},
   "outputs": [],
   "source": [
    "print(sum(\n",
    "    [\n",
    "        [1, 2, 3, 4, 5],  # リスト1つ目\n",
    "        [6, 7, 8, 9, 10]  # リスト2つ目\n",
    "    ],\n",
    "start=[]))"
   ]
  },
  {
   "cell_type": "markdown",
   "metadata": {},
   "source": [
    "以上のようにリスト同士を結合することができた.  \n",
    "しかし, 上記と違う点がある. それは引数`start`の有無だ。  \n",
    "これに最初の値を正しく設定しないと、正確に動作しない。  \n",
    "ちなみにこれはデフォルト引数という、初期値が設定されている引数であり, 初期値は`0`である.\n",
    "\n",
    "もっと言ってしまえば演算子`+`についての挙動が定義されている型であれば動作させることが可能だ.  \n",
    "しかし、`str`型についてはこれを使用して、文字列を結合することは推奨されていない(処理速度が遅い)ので要注意.  \n",
    "文字列を結合させたい場合には`join()`を利用する.  \n",
    "`join()`はメソッドと呼ばれ、呼び出す際には`str型変数.join()`とする必要がある.  \n"
   ]
  },
  {
   "cell_type": "code",
   "execution_count": null,
   "metadata": {},
   "outputs": [],
   "source": [
    "'|'.join([\"あいうえお\", \"さしすせそ\"])  # 変数の中身が結合用の文字に使われる"
   ]
  },
  {
   "cell_type": "markdown",
   "metadata": {},
   "source": [
    "# 変更できるものと変更できないもの\n",
    "\n",
    "Pythonにおいて中身(数値とか)を直接変更できないものと変更できるものがある。  \n",
    "変更できないものを**immutable**、変更できるものを**mutable**と呼ぶ。\n",
    "\n",
    "immutableの例\n",
    "\n",
    "- tuple\n",
    "- str\n",
    "- int\n",
    "\n",
    "mutableの例\n",
    "\n",
    "- list\n",
    "- set\n",
    "- dict\n",
    "\n",
    "`int` はわかりづらいかもしれないが実は代入するたびに入れ替わっている。  \n",
    "次で確認してみよう。"
   ]
  },
  {
   "cell_type": "code",
   "execution_count": null,
   "metadata": {},
   "outputs": [],
   "source": [
    "a = 0 # 変数を代入\n",
    "print(id(a)) # 変数を識別するIDを表示"
   ]
  },
  {
   "cell_type": "code",
   "execution_count": null,
   "metadata": {},
   "outputs": [],
   "source": [
    "a = 1\n",
    "print(id(a)) # 違うIDが出ているので元の変数とは異なるものとなっている。"
   ]
  },
  {
   "cell_type": "code",
   "execution_count": null,
   "metadata": {},
   "outputs": [],
   "source": [
    "b = a  # 別の変数に代入してみる\n",
    "print(id(b)) \n",
    "print(id(b) == id(a))  # IDが同じか判定"
   ]
  },
  {
   "cell_type": "code",
   "execution_count": null,
   "metadata": {},
   "outputs": [],
   "source": [
    "b = 2 # 改めて整数値を代入\n",
    "print(id(b))\n",
    "print(id(b) == id(a)) # 同じ変数ではなくなっている"
   ]
  },
  {
   "cell_type": "markdown",
   "metadata": {},
   "source": [
    "以前取り扱ったlistについても確認してみよう。  \n",
    "list型の変数は別の変数に代入した状態で、要素を書き換えると代入先の変数も変わる。"
   ]
  },
  {
   "cell_type": "code",
   "execution_count": null,
   "metadata": {},
   "outputs": [],
   "source": [
    "c = [1, 2, 3]\n",
    "d = c\n",
    "print(\"c:\", c)\n",
    "print(\"d:\", d)\n",
    "c[0] = 4\n",
    "print(\"---changed---\")\n",
    "print(\"c:\", c)\n",
    "print(\"d:\", d)"
   ]
  },
  {
   "cell_type": "markdown",
   "metadata": {},
   "source": [
    "上の例から考えるとIDが一緒であると思われる。  \n",
    "確認してみよう。"
   ]
  },
  {
   "cell_type": "code",
   "execution_count": null,
   "metadata": {},
   "outputs": [],
   "source": [
    "print(id(c) == id(d))"
   ]
  },
  {
   "cell_type": "markdown",
   "metadata": {},
   "source": [
    "このように元ある変数に別の変数を代入する際には、色々と気を付けるとスムーズなプログラミングができる。"
   ]
  },
  {
   "cell_type": "markdown",
   "metadata": {},
   "source": [
    "# `==`が比較しているもの\n",
    "\n",
    "今回の範囲ではとして `==` が出てきたが、似たような機能を持つ演算子として `is` がある。  \n",
    "しかし、これら2つの演算子が比較しているものは異なる。  \n",
    "`==` 演算子は値が同じかどうかを比較するが、`is` は変数そのものが同一か(`id()` の結果が同じか)どうかを比較する。"
   ]
  },
  {
   "cell_type": "code",
   "execution_count": null,
   "metadata": {},
   "outputs": [],
   "source": [
    "a = [10]\n",
    "b = [10]\n",
    "print(a == b)  # 値が同じかどうか\n",
    "print(a is b)  # idが同じかどうか"
   ]
  },
  {
   "cell_type": "markdown",
   "metadata": {},
   "source": [
    "listについては上記で確認したように値が同じでも変数それぞれは別物として生成される。  \n",
    "しかし、immutableな型についてはその通りとは限らないので注意が必要である。"
   ]
  },
  {
   "cell_type": "code",
   "execution_count": null,
   "metadata": {},
   "outputs": [],
   "source": [
    "a = 10  # 変数aに値を代入\n",
    "b = 10  # 変数bに値を代入(値は同じだが違う識別番号が生成されるはず)\n",
    "print(a is b) # 実は同じものを参照している\n",
    "print(id(a))\n",
    "print(id(b))"
   ]
  },
  {
   "cell_type": "markdown",
   "metadata": {},
   "source": [
    "上記では、同じ値を代入しているがlistの例を見る限り、関数id()の結果は変わりそうだが、実際には同じところを参照している(内部的には同一のものとして取り扱っている)。  \n",
    "ではimmutableな型では値が同じであれば同じところを参照しているとして判定されるのかと言えばそうとも限らない。  \n",
    "次の例を見てみよう。"
   ]
  },
  {
   "cell_type": "code",
   "execution_count": null,
   "metadata": {},
   "outputs": [],
   "source": [
    "e = 'abc'\n",
    "f = 'ABC'\n",
    "\n",
    "print(e is f)  # 値が異なるので異なるidを参照していると思われる。\n",
    "f = f.lower()  # lower()は大文字を小文字に直す関数。これでeと同じ値になるので同じidを参照してそう\n",
    "print(e is f)\n",
    "print(id(e))\n",
    "print(id(f))"
   ]
  },
  {
   "cell_type": "markdown",
   "metadata": {},
   "source": [
    "途中で変数fの文字列を小文字に直して、値を同一にしているが識別番号は異なっている。  \n",
    "つまり、immutableな型ではid()の結果が同じになったり、ならなかったりする、ということである。  \n",
    "なので基本的にis演算子を使って数値比較をするのは非推奨である。  \n",
    "ではどういう時に使い道があるかと言うと、変数の中身が`None`でないかどうか(何も無い)を確認するときに使用する。"
   ]
  },
  {
   "cell_type": "markdown",
   "metadata": {},
   "source": [
    "# セイウチ演算子を使おう(if文編)\n",
    "\n",
    "セイウチ演算子(`:=`)は変数に値を代入する**式**である。  \n",
    "通常の代入(=)と異なる点は、条件式内で使用することが可能である点である。  \n",
    "これを使うことでソースコードをすっきりと書くことができる。\n",
    "\n",
    "次のコードはlist型の変数gの中で値が7である要素が1番目にある時にOKと出力し、そうでないときにはNGと出力する。"
   ]
  },
  {
   "cell_type": "code",
   "execution_count": null,
   "metadata": {},
   "outputs": [],
   "source": [
    "g = [3, 7, 8]\n",
    "idx = g.index(7)  # 関数indexは引数に取った値とlist内において一番最初にマッチした要素の添え字を返す\n",
    "if idx == 1:\n",
    "    print(\"OK\")\n",
    "else:\n",
    "    print(\"NG\")"
   ]
  },
  {
   "cell_type": "markdown",
   "metadata": {},
   "source": [
    "これをセイウチ演算子を使って書き直すと次のように書ける。"
   ]
  },
  {
   "cell_type": "code",
   "execution_count": null,
   "metadata": {},
   "outputs": [],
   "source": [
    "g = [3, 7, 8]\n",
    "if (idx_2 := g.index(7)) == 1:\n",
    "    print(\"OK\")\n",
    "else:\n",
    "    print(\"NG\")\n"
   ]
  },
  {
   "cell_type": "markdown",
   "metadata": {},
   "source": [
    "これだけだとセイウチ演算子を使用するありがたみがわかりづらいかもしれない。  \n",
    "そこでわかりやすくなるように**三項演算子**を使用してみる。  \n",
    "三項演算子は、値を代入する際に条件式を利用して代入する値を変えたいときに利用する。  \n",
    "(演算子とは言っているがPythonでは記述方法について指している。他の言語では専用の演算子がある)\n",
    "\n",
    "先ほどの例に沿って三項演算子を使ってOKもしくはNGを代入するコードを下に記述した。"
   ]
  },
  {
   "cell_type": "code",
   "execution_count": null,
   "metadata": {},
   "outputs": [],
   "source": [
    "g = [3, 7, 8]\n",
    "idx_3 = g.index(7)\n",
    "result = \"OK\" if idx_3 == 1 else \"NG\"\n",
    "print(result)"
   ]
  },
  {
   "cell_type": "markdown",
   "metadata": {},
   "source": [
    "セイウチ演算子を使用すると短く記述できる。"
   ]
  },
  {
   "cell_type": "code",
   "execution_count": null,
   "metadata": {},
   "outputs": [],
   "source": [
    "g = [3, 7, 8]\n",
    "result = \"OK\" if (idx_4 := g.index(7)) == 1 else \"NG\"\n",
    "print(result)"
   ]
  },
  {
   "cell_type": "markdown",
   "metadata": {},
   "source": [
    "さらに代入式で得られた値を表示させたり代入させたりできる。"
   ]
  },
  {
   "cell_type": "code",
   "execution_count": null,
   "metadata": {},
   "outputs": [],
   "source": [
    "print(idx_5 if (idx_5 := g.index) == 2 else \"NG\" )"
   ]
  },
  {
   "cell_type": "markdown",
   "metadata": {},
   "source": [
    "ただし、セイウチ演算子は代入文の代わりとして使用はできないので注意が必要"
   ]
  },
  {
   "cell_type": "code",
   "execution_count": null,
   "metadata": {},
   "outputs": [],
   "source": [
    "a := g.index(7)"
   ]
  },
  {
   "cell_type": "markdown",
   "metadata": {},
   "source": [
    "# セイウチ演算子を使おう(while編)\n",
    "\n",
    "上ではセイウチ演算子をif文で使用していたが、if文だけでなくwhile文でも使用が可能である。  \n",
    "特に、for文に適用できないような関数と併用することで効果を発揮する。"
   ]
  },
  {
   "cell_type": "markdown",
   "metadata": {},
   "source": [
    "## for文に適用できるもの\n",
    "\n",
    "for文に適用できるものとして書籍内では `list` や `tuple` , `dict`, `set` といったコレクションが挙げられているが、より正確には  \n",
    "**Iterableなもの**が適用可能である。これには`str`も該当している。下記の例を見てみよう。"
   ]
  },
  {
   "cell_type": "code",
   "execution_count": null,
   "metadata": {},
   "outputs": [],
   "source": [
    " example = 'あいうえおかきくけこさしすせそたちつてと'\n",
    " for ex in example:\n",
    "     print(ex)"
   ]
  },
  {
   "cell_type": "markdown",
   "metadata": {},
   "source": [
    "以上のようにstrもIterableなので、in以降に指定してあげると一文字ずつ取り出すことが可能となる。  \n",
    "他にもIterableなものとしてはrangeがある。これは書籍内では関数と言われているが、正確ではなく、  \n",
    "**`range`型**を返すコンストラクタ(`dict()`と同様のもの)です。"
   ]
  },
  {
   "cell_type": "markdown",
   "metadata": {},
   "source": [
    "## while文で使うもの\n",
    "\n",
    "for文を使う場合というのは、繰り返しの回数が把握できている場合、もしくはIterableなものを参照する場合である。\n",
    "逆に言えば、あまりfor文を使う場合に適さないのは繰り返しの回数を把握できなかったり、Iterableなものを参照しない・できない場合であり、  \n",
    "そういう時にはwhile文を使用することが多い。  \n",
    "とくにPythonの場合、ファイルの読み込みを行う時に使用する。  \n",
    "まず、ファイルの読み込みの仕方を見てみよう。"
   ]
  },
  {
   "cell_type": "markdown",
   "metadata": {},
   "source": [
    "ファイルの読み込みには`open`関数とwith構文を使用する。\n",
    "with構文は以下の形で使用する。\n",
    "\n",
    "```python \n",
    "with 前処理関数 as 前処理関数から返される値を受け取る変数\n",
    "    処理内容\n",
    "``` \n",
    "open関数の場合は次のように書く。\n",
    "open関数の引数には読み込みたいファイル名をstr型で指定する。"
   ]
  },
  {
   "cell_type": "code",
   "execution_count": null,
   "metadata": {},
   "outputs": [],
   "source": [
    "with open(\"example.txt\") as f: # ちなみに、書き込みを行うのか読み込むだけなのか、\n",
    "                               # どの文字コードで読み込むのかなどの指定もできるが今回は省略\n",
    "    # ここのブロック内に開いたファイルに対する処理を記述する。\n",
    "    ...\n",
    "# ちなみにwith構文を書かずに使用することが可能だが、その場合には以下のように書く。\n",
    "# f = open(\"example.txt\")\n",
    "# 処理内容\n",
    "# f.close()"
   ]
  },
  {
   "cell_type": "markdown",
   "metadata": {},
   "source": [
    "ここで読み込む`example.txt`の中身は次のようなものである。\n",
    "\n",
    "```text\n",
    "123\n",
    "456\n",
    "789\n",
    "101112\n",
    "```\n",
    "\n",
    "このテキストを一行ずつ取り出したい。\n",
    "\n",
    "セイウチ演算子を使わない場合には次のように書く。"
   ]
  },
  {
   "cell_type": "code",
   "execution_count": null,
   "metadata": {},
   "outputs": [],
   "source": [
    "with open(\"example.txt\") as f:\n",
    "    line = f.readline()  # 一行ずつ取り出す関数\n",
    "    while line:\n",
    "        print(line)  # 改行文字ごと読み込んでいるので表示すると一行ずつ空いているように見える\n",
    "        line = f.readline()  # 読み込めない場合にはNoneを返す"
   ]
  },
  {
   "cell_type": "markdown",
   "metadata": {},
   "source": [
    "上のコードの面倒な点は最後の`line = f.readline()`の部分である。  \n",
    "この関数は読み込んだファイルを一行ずつ取り出す関数であるが、Iterabaleなものではないため、for文の適用ができない。  \n",
    "(これはファイル読み込みの仕様によるもので、解説には別の解説が必要なためIterableでない理由は省く)\n",
    "\n",
    "また、`readline()`は取り出せるものがなくなった、つまりはファイルの最後まで読み込んだ場合には  \n",
    "`None`を返す。`None`は条件式の中では`False`として判定されるので、それを利用して上のコードでは\n",
    "繰り返しを出る条件としている。\n",
    "\n",
    "これの面倒な点として、最後の`line = f.readline()`を書き忘れた場合、変数`line`の中身が更新されないので  \n",
    "無限ループにはまってしまう。これを解消する方法としてセイウチ演算子が活用できる。"
   ]
  },
  {
   "cell_type": "code",
   "execution_count": null,
   "metadata": {},
   "outputs": [],
   "source": [
    "with open(\"example.txt\") as f:\n",
    "    while line := f.readline() :\n",
    "        print(line)\n",
    "# ちなみにwhilieの前のreadline()を削除した理由は、whilie文の条件式が評価される際に読み込みが起きてしまうため。\n",
    "# つまり、while文の前にreadline()があった場合には2回読み込んでしまうので、最初の行が表示されなくなってしまう。"
   ]
  },
  {
   "cell_type": "markdown",
   "metadata": {},
   "source": [
    "以上のように、セイウチ演算子を使用することでコードの圧縮をするだけでなく、  \n",
    "無限ループを回避する、ループごとの変数の代入を行えるなど、汎用性は高いので  \n",
    "使えるタイミングでは積極的に使うと良い。"
   ]
  },
  {
   "cell_type": "markdown",
   "metadata": {},
   "source": [
    "# リスト内包表記\n",
    "\n",
    "リストを作成する際にfor文、もしくはwhile文を使用することが多い。  \n",
    "しかし、繰り返しのブロックを作成し、その中で `append` 関数を使用して記述するのは  \n",
    "実装上、効率は良くない。そこで活躍するのがリスト内包表記である。  "
   ]
  },
  {
   "cell_type": "markdown",
   "metadata": {},
   "source": [
    "今回は学生のテストの点数のリストを作る、という体で進めていこう。  \n",
    "まずは学生の人数を適当に決定する。"
   ]
  },
  {
   "cell_type": "code",
   "execution_count": null,
   "metadata": {},
   "outputs": [],
   "source": [
    "student_num = 4"
   ]
  },
  {
   "cell_type": "markdown",
   "metadata": {},
   "source": [
    "そして学生ごとのテストの点数を入力し、そのリストを作成するコードは以下の通り。"
   ]
  },
  {
   "cell_type": "code",
   "execution_count": null,
   "metadata": {},
   "outputs": [],
   "source": [
    "score_list = []\n",
    "for _ in range(student_num):  # 繰り返しの際に使用することのない繰り返し用の変数は“_”で書くことが通例\n",
    "    score_list.append(\n",
    "        int(input(\"What's score?: \"))\n",
    "    )"
   ]
  },
  {
   "cell_type": "code",
   "execution_count": null,
   "metadata": {},
   "outputs": [],
   "source": [
    "score_list"
   ]
  },
  {
   "cell_type": "markdown",
   "metadata": {},
   "source": [
    "これで問題はないのだが、これが1万人の生徒のデータのリストを作成する、ということになったとき、  \n",
    "`append()`では実行速度が遅くなる傾向にある。(そもそも1万人分のデータを手打ちすることはないだろうが)\n",
    "\n",
    "そこで、活躍するのが**リスト内包表記**である。  \n",
    "これの書き方は以下の通りである。\n",
    "\n",
    "```\n",
    "変数 = [繰り返しの中の処理の結果や変数 for 繰り返し変数 in Iterableな変数]\n",
    "```\n",
    "\n",
    "これを上のコードに適用すると、次のコードのように書ける。"
   ]
  },
  {
   "cell_type": "code",
   "execution_count": null,
   "metadata": {},
   "outputs": [],
   "source": [
    "score_list = [int(input(\"What's score?: \")) for _ in range(student_num)]\n",
    "# 内包表記"
   ]
  },
  {
   "cell_type": "code",
   "execution_count": null,
   "metadata": {},
   "outputs": [],
   "source": [
    "print(score_list)"
   ]
  },
  {
   "cell_type": "markdown",
   "metadata": {},
   "source": [
    "また、リスト内包表記にはif-else文も書ける。内包表記にif-else文を書く場合にはforの前に書く。"
   ]
  },
  {
   "cell_type": "code",
   "execution_count": null,
   "metadata": {},
   "outputs": [],
   "source": [
    "result = [\"合格\" if score > 25 else \"不合格\" for score in score_list]\n",
    "print(result)"
   ]
  },
  {
   "cell_type": "markdown",
   "metadata": {},
   "source": [
    "ただ、if文の場合には注意が必要である。if文の場合はforの後に条件を書く。"
   ]
  },
  {
   "cell_type": "code",
   "execution_count": null,
   "metadata": {},
   "outputs": [],
   "source": [
    "ok_student = [r for r in result if r == \"合格\"]\n",
    "print(ok_student)"
   ]
  },
  {
   "cell_type": "markdown",
   "metadata": {},
   "source": [
    "# 明示的型付け\n",
    "\n",
    "Pythonでは変数を宣言するとき、その変数の型は何なのか明確に書く必要はない。  \n",
    "これはPythonは動的型付けと呼ばれる、プログラムの実行時に変数の値から、その型を  \n",
    "決定する方法を取っている言語だからである。(他にはJavaScriptやRubyが該当)  \n",
    "対して、変数の型をコード内に明示的に書き、そこから変数の方を決めるのを静的型付けという。  \n",
    "(これにはC言語やJavaが該当)\n",
    "\n",
    "以前では、動的型付けをする言語では実行速度が遅いなどの問題が挙げられていたが、\n",
    "現在ではある程度解決されているらしい。  \n",
    "とはいえ、大きなサイズのコードを書いていくと、「この関数はどのような型の変数を取って、どのような型の返り値を持つのか」  \n",
    "と自分の書いたコードがわからなくなってくる。  \n",
    "これを回避するためにPythonでは変数の型を明示するための書き方が存在する。\n",
    "書き方は以下の通り。\n",
    "\n",
    "```python\n",
    "変数: 変数の型\n",
    "```\n",
    "\n",
    "まずは以下の関数を見てみよう。"
   ]
  },
  {
   "cell_type": "code",
   "execution_count": null,
   "metadata": {},
   "outputs": [],
   "source": [
    "def output_sum(x, y):\n",
    "    answer = x + y\n",
    "\n",
    "    return answer"
   ]
  },
  {
   "cell_type": "markdown",
   "metadata": {},
   "source": [
    "この関数は整数を2つとり、その和を返す関数である、ということを想定した関数だ。  \n",
    "これに対して、明示的に型付けをしていこう。まずは2つ引数に型付けをしよう。  \n",
    "これら2つの引数は整数、つまりは`int`型の引数であるので次のように書く。"
   ]
  },
  {
   "cell_type": "code",
   "execution_count": null,
   "metadata": {},
   "outputs": [],
   "source": [
    "def output_sum(x: int, y: int):\n",
    "    answer = x + y\n",
    "\n",
    "    return answer"
   ]
  },
  {
   "cell_type": "markdown",
   "metadata": {},
   "source": [
    "また、返り値である`answer`にも型付けをしよう。  \n",
    "これも整数であるのでint型であることを明示する。"
   ]
  },
  {
   "cell_type": "code",
   "execution_count": null,
   "metadata": {},
   "outputs": [],
   "source": [
    "def output_sum(x: int, y: int):\n",
    "    answer: int = x + y\n",
    "\n",
    "    return answer"
   ]
  },
  {
   "cell_type": "markdown",
   "metadata": {},
   "source": [
    "これでも問題はないのだが、このままだと関数の中身を見るまで、どんな型の値が  \n",
    "返ってくるかわからない。なので、返り値の型を先に明示する方法が存在する。\n",
    "これは次の通りに書く。\n",
    "```python\n",
    "def 関数名(引数) -> 返り値の型:\n",
    "    ...  # 省略\n",
    "```\n",
    "上の例を書き換えてみよう。"
   ]
  },
  {
   "cell_type": "code",
   "execution_count": null,
   "metadata": {},
   "outputs": [],
   "source": [
    "def output_sum(x: int, y: int) -> int:\n",
    "    answer: int = x + y\n",
    "\n",
    "    return answer"
   ]
  },
  {
   "cell_type": "markdown",
   "metadata": {},
   "source": [
    "今回はint型を取り扱ったが、listなどのコレクションに含まれる型を明示する際には  \n",
    "次のように書く。\n",
    "```python\n",
    "exList: list[int]  # リストに含まれる要素の型を[]内に書く\n",
    "exList2: list[str]\n",
    "exList3: dict[str, int]  # dictの場合は[キーの型, バリューの型]と書く\n",
    "```"
   ]
  },
  {
   "cell_type": "markdown",
   "metadata": {},
   "source": [
    "明示的型付けにおいて注意してほしいのはPythonにおいては\n",
    "**プログラムの実行において何も影響しないことである。**  \n",
    "\n",
    "実際に上のプログラムにint以外の値を渡してみよう。"
   ]
  },
  {
   "cell_type": "code",
   "execution_count": null,
   "metadata": {},
   "outputs": [],
   "source": [
    "print(output_sum(\"abc\", \"def\"))\n"
   ]
  },
  {
   "cell_type": "markdown",
   "metadata": {},
   "source": [
    "実行自体には何らエラーは出力されない。  \n",
    "つまり、Pythonにおける明示的型付けはコードを書く・読む人間が読みやすくするためだけの  \n",
    "機能である。しかし、この機能は非常に重要で、読みやすくするだけでなく、コード補完ツールにおいては  \n",
    "型付けを読み込み、表示してくれるなど、作業の円滑化を促す機能なので、覚えておいて損はない機能である。"
   ]
  },
  {
   "cell_type": "markdown",
   "metadata": {},
   "source": [
    "# 関数の引数・戻り値の挙動について\n",
    "\n",
    "多くのプログラミング言語において関数を実行する際、関数の引数を通して  \n",
    "関数に値を渡す際の渡し方には2種類ある。\n",
    "\n",
    "1. 値渡し\n",
    "2. 参照渡し\n",
    "\n",
    "値渡しは引数に指定された変数の値をコピーして関数側に渡す方法、  \n",
    "参照渡しは引数に指定された変数の参照情報を関数側に渡す方法である. \n",
    "\n",
    "Pythonにおいては基本的には参照渡しのみを使用している。  \n",
    "`id()`を使って確認してみよう。"
   ]
  },
  {
   "cell_type": "markdown",
   "metadata": {},
   "source": [
    "次のコードは引数のid(参照情報)を確認する関数である。  \n",
    "これを使って値渡しが起きているのか、参照渡しが起きているのか確認しよう。"
   ]
  },
  {
   "cell_type": "code",
   "execution_count": null,
   "metadata": {},
   "outputs": [],
   "source": [
    "def check_var_id(variable):\n",
    "    print(id(variable))\n",
    "\n",
    "    return variable"
   ]
  },
  {
   "cell_type": "markdown",
   "metadata": {},
   "source": [
    "まずはimmutableな型である`int`で確認してみよう。"
   ]
  },
  {
   "cell_type": "code",
   "execution_count": null,
   "metadata": {},
   "outputs": [],
   "source": [
    "test1 = 10\n",
    "print(\"test:\", id(test1))\n",
    "result1 = check_var_id(test1)\n",
    "print(\"return:\", id(result1))"
   ]
  },
  {
   "cell_type": "markdown",
   "metadata": {},
   "source": [
    "idが変わっていない、つまりは参照情報に変更が起きていないことがわかる。  \n",
    "さらにmutableな型である`list`でも確認しよう。"
   ]
  },
  {
   "cell_type": "code",
   "execution_count": null,
   "metadata": {},
   "outputs": [],
   "source": [
    "test2 = [0, 1, 2]\n",
    "print(\"test\", id(test2))\n",
    "result2 = check_var_id(test2)\n",
    "print(\"result:\", id(result2))"
   ]
  },
  {
   "cell_type": "markdown",
   "metadata": {},
   "source": [
    "こちらでもidが変わっていないことを確認できた。  \n",
    "つまり、参照渡しが起きている。\n",
    "\n",
    "また、もう一つわかることとして、戻り値も参照渡しで戻ってきていることが確認できる。  \n",
    "上の実行結果で戻り値のidも変わっていないことがわかると思う。\n",
    "\n",
    "つまり、Pythonの関数において引数として値を渡す際にも、戻り値として値を受け取る際にも  \n",
    "内部でやり取りしているのは値の参照情報である。  \n",
    "言ってしまえば、変数名を含んだ変数そのものをやり取りしているのではない、ということである。  \n",
    "(なので、仮引数名と実引数名は一緒である必要はないし、戻り値の変数名と受け取る変数の変数名は一緒である必要はない。   \n",
    "これについては値渡しも同じ。コピーされた値のみをやり取りしているだけなので。)\n",
    "\n"
   ]
  },
  {
   "cell_type": "markdown",
   "metadata": {},
   "source": [
    "# グローバル変数とローカル変数の切り替え\n",
    "\n",
    "今回の範囲で、ローカル変数は関数の外から参照できない、ということと  \n",
    "グローバル変数は関数から参照できることを学んだ。  \n",
    "今回のようにローカル変数を参照できる範囲は限定されており、これをスコープという。\n",
    "\n",
    "Pythonには3段階のスコープが存在している。\n",
    "\n",
    "1. ローカルスコープ: 関数内の変数を参照できる範囲\n",
    "2. グローバルスコープ: ソースコードプログラム内で参照できる範囲\n",
    "3. ビルトインスコープ: 組み込み関数などを参照するために必要な範囲\n",
    "\n",
    "ビルトインスコープは基本的には気にしなくて問題はないが、グローバルスコープと  \n",
    "ローカルスコープについては注意が必要である。特に、ローカルスコープ内と  \n",
    "グローバルスコープ内で同じ名前で宣言した変数には取り扱いが重要である。\n",
    "\n",
    "テキストでは実例として、グローバルスコープにあたる変数をローカルスコープから利用した例が2つ出た。\n",
    "復習として確認しよう。"
   ]
  },
  {
   "cell_type": "markdown",
   "metadata": {},
   "source": [
    "まず1つ目がグローバル変数に代入を行おうとして書き換えようとしたケースである。  \n",
    "これを次のコードで再現しよう。"
   ]
  },
  {
   "cell_type": "code",
   "execution_count": null,
   "metadata": {},
   "outputs": [],
   "source": [
    "global_int = 0\n",
    "def change_value():\n",
    "    global_int = 1\n",
    "    print(global_int)\n",
    "change_value()\n",
    "print(global_int)"
   ]
  },
  {
   "cell_type": "markdown",
   "metadata": {},
   "source": [
    "テキストの例と同じようにグローバル変数の値は変化しなかった。  \n",
    "このことから、**関数内の`global_int`はローカル変数であり、別物として扱われている**ということがわかる。  \n",
    "(つまり参照情報が異なっている、ということ)  \n",
    "\n",
    "もう一つの例として、関数内でグローバル変数を直接参照できてしまった場合がある。  \n",
    "次のコードで確認しよう。"
   ]
  },
  {
   "cell_type": "code",
   "execution_count": null,
   "metadata": {},
   "outputs": [],
   "source": [
    "global_str = \"abc\"\n",
    "def refer_value():\n",
    "    print(\"Refference {}\".format(global_str))\n",
    "refer_value()"
   ]
  },
  {
   "cell_type": "markdown",
   "metadata": {},
   "source": [
    "この場合は、関数内で`global_str`は宣言されていないにも拘らず、動作していることが確認できた。  \n",
    "このことから、**関数内の`global_str`はグローバル変数のそれと同じものとして扱われている**ということがわかる。\n",
    "(参照情報が同じ)\n",
    "\n",
    "以上の2パターンが発生する条件はいったい何だろうか。\n",
    "リストを例として見てみよう。"
   ]
  },
  {
   "cell_type": "code",
   "execution_count": null,
   "metadata": {},
   "outputs": [],
   "source": [
    "global_list = [0, 1, 2]\n",
    "def change_list_1():\n",
    "    global_list = []\n",
    "    print(global_list)\n",
    "change_list_1()\n",
    "print(global_list)"
   ]
  },
  {
   "cell_type": "code",
   "execution_count": null,
   "metadata": {},
   "outputs": [],
   "source": [
    "global_list_2 = [3, 4, 5]\n",
    "def change_list_2():\n",
    "    global_list_2.append(6)\n",
    "    print(global_list_2)\n",
    "change_list_2()\n",
    "print(global_list_2)"
   ]
  },
  {
   "cell_type": "code",
   "execution_count": null,
   "metadata": {},
   "outputs": [],
   "source": [
    "def change_list_3():\n",
    "    global global_list_2\n",
    "    global_list_2 = []\n",
    "    print(global_list_2)\n",
    "change_list_3()\n",
    "print(global_list_2)"
   ]
  },
  {
   "cell_type": "markdown",
   "metadata": {},
   "source": [
    "以上を見てもらえるとわかるように、ローカル変数として扱われるのは代入を行ったときであり、\n",
    "それ以外の時においてグローバル変数として扱われる。\n",
    "\n",
    "このように同名の変数を関数内で扱う場合には、それがグローバル変数になるのか、ローカル変数として\n",
    "扱われるのか把握し、注意を払う必要がある。"
   ]
  },
  {
   "cell_type": "markdown",
   "metadata": {},
   "source": [
    "# 繰り返しと関数\n",
    "\n",
    "関数を書いている中で、繰り返しの中で各ループごとに値を返してもらいたいときがある。  \n",
    "例えば、リストの中身を累乗して返してもらったりなどなど。  \n",
    "\n",
    "このとき、`return`の代わりに`yield`が役に立つ。  \n",
    "`yield`は繰り返しの中で使用し、使用することでIterableな関数(正確にはGeneratorと呼ばれるもの)になる。  \n",
    "基本的に`yield`を使った関数はfor文の中で使用する。  \n",
    "実際の使用例を次の関数で見てみよう。"
   ]
  },
  {
   "cell_type": "code",
   "execution_count": null,
   "metadata": {},
   "outputs": [],
   "source": [
    "def testYield(*args: int):\n",
    "    for a in args:\n",
    "        yield a**2\n",
    "\n",
    "for sq in testYield(3, 4, 6, 8, 9):\n",
    "    print(sq)"
   ]
  },
  {
   "cell_type": "markdown",
   "metadata": {},
   "source": [
    "上記のコードを実行するとわかるが、繰り返しの変数`sq`に戻り値が格納されているのがわかる。  \n",
    "ちなみに、次のような使い方もできる。"
   ]
  },
  {
   "cell_type": "code",
   "execution_count": null,
   "metadata": {},
   "outputs": [],
   "source": [
    "print(list(testYield(2, 3, 4, 5)))  # リストへ変換\n",
    "gen = testYield(9, 8, 7, 6)  # 変数に代入して\n",
    "for g in gen:  # for文に入れることもできる\n",
    "    print(g)"
   ]
  },
  {
   "cell_type": "markdown",
   "metadata": {},
   "source": [
    "# 関数がオブジェクトであることを利用した応用\n",
    "\n",
    "関数自体もオブジェクトであることは学んだとおりであるが、これを応用することで様々なことができる。  \n",
    "例えばswitch文(Rubyではcase文が近い)の疑似的な実装を行うこともできる。  \n",
    "\n",
    "ただ、あくまで疑似的な実装のみであり、完全ではなく、また、元のswitch文やRubyのcase文のような  \n",
    "構文をとるわけではないことに注意をしてほしい。"
   ]
  },
  {
   "cell_type": "code",
   "execution_count": null,
   "metadata": {},
   "outputs": [],
   "source": [
    "def print_math():  # 複数の関数を定義\n",
    "    print(\"This is a math.\")\n",
    "\n",
    "def print_eng():\n",
    "    print(\"This is a English.\")\n",
    "\n",
    "def print_other():\n",
    "    print(\"This is a something.\")\n",
    "\n",
    "switch = [print_math, print_eng, print_other]  # 関数を要素とするlistを作成\n",
    "\n",
    "a = input(\"please input integer number between from 0 to 1.\")\n",
    "switch[int(a)]()"
   ]
  },
  {
   "cell_type": "markdown",
   "metadata": {},
   "source": [
    "以上のように、変数の値で挙動を分岐することが再現することができる(応用すれば文字列でも可能)。  \n",
    "ただ、上記を見てもらえばわかるようにswitch文における`default`(Rubyのcase文では`else`)は再現できない。  \n",
    "\n",
    "このような利用・応用は様々であり、関数を引数に取る関数(糖衣構文、シュガーシンタックス)なども作成可能である。"
   ]
  },
  {
   "cell_type": "markdown",
   "metadata": {},
   "source": [
    "# クラス内でのAttributeの宣言の仕方\n",
    "\n",
    "今回の内容ではクラスの宣言の仕方を学んだが、Atrributeの宣言の仕方は実は複数ある。  \n",
    "まずは、書籍内での宣言の仕方を確認する。  "
   ]
  },
  {
   "cell_type": "code",
   "execution_count": null,
   "metadata": {},
   "outputs": [],
   "source": [
    "class test_score():\n",
    "    math = 80\n",
    "    eng = 60\n",
    "\n",
    "    def print_score(self):\n",
    "        print(self.math, self.eng)\n",
    "\n",
    "a = test_score()\n",
    "a.print_score()"
   ]
  },
  {
   "cell_type": "markdown",
   "metadata": {},
   "source": [
    "もうひとつのやり方としてはインスタンス化を行う際に必ず呼び出される特殊メソッド`__init__()`を使用することである。  \n",
    "次のコードを見てみよう。"
   ]
  },
  {
   "cell_type": "code",
   "execution_count": null,
   "metadata": {},
   "outputs": [],
   "source": [
    "class test_score2():\n",
    "    def __init__(self) -> None:\n",
    "        self.math = 80\n",
    "        self.eng = 60\n",
    "\n",
    "    def print_score(self):\n",
    "        print(self.math, self.eng)\n",
    "\n",
    "a = test_score2()\n",
    "a.print_score()"
   ]
  },
  {
   "cell_type": "markdown",
   "metadata": {},
   "source": [
    "違いとしてはクラス自身を示す`self`が先頭についていることである。  \n",
    "これを付けなければAtrributeとして代入することができない(いわゆるスコープの問題)  \n",
    "\n",
    "基本的にはどちらの方法をとっても問題はないが、インスタンス化を行う際に初期値を動的に変えたいときや、  \n",
    "単純な属性の設定だけでなく、処理を書きたい場合には`__init__()`を使うのがよいだろう。"
   ]
  },
  {
   "cell_type": "markdown",
   "metadata": {},
   "source": [
    "# 浅いコピーと深いコピー\n",
    "今回出てきたcopy関数だが、実はPythonにおける変数のコピーは２種類存在する。それが**浅いコピー**と**深いコピー**である。「浅い」と「深い」とはどういうことなのか、実例を交えて説明する。\n",
    "\n",
    "`copy()`は`copy`という組み込みモジュールに含まれる関数である。なので、まず先に以下のコードを書いて、扱えるようにする。"
   ]
  },
  {
   "cell_type": "code",
   "execution_count": null,
   "metadata": {},
   "outputs": [],
   "source": [
    "import copy"
   ]
  },
  {
   "cell_type": "markdown",
   "metadata": {},
   "source": [
    "この`copy`モジュールには`copy()`以外にも深いコピーを行うための`deepcopy()`も含まれている。\n",
    "\n",
    "今回は実例として、リストの中にリストを含む多重リスト考えてみよう。"
   ]
  },
  {
   "cell_type": "code",
   "execution_count": null,
   "metadata": {},
   "outputs": [],
   "source": [
    "a = [1, 4, \"text\", [3, 5, 7]]"
   ]
  },
  {
   "cell_type": "markdown",
   "metadata": {},
   "source": [
    "今回は上の変数を用いて説明を進める。書籍内ではcopy()を用いる(正確には`リスト型変数.copy()`)ことで変数をコピーすることができると書かれている。実際に確かめてみよう。"
   ]
  },
  {
   "cell_type": "code",
   "execution_count": null,
   "metadata": {},
   "outputs": [],
   "source": [
    "b = copy.copy(a)\n",
    "# b = a.copy()でも可\n",
    "b[0] = 2\n",
    "print(a)\n",
    "print(b)"
   ]
  },
  {
   "cell_type": "markdown",
   "metadata": {},
   "source": [
    "確かに`copy()`を使うことで、変数`b`の最初の要素を書き換えてもコピー元の`a`に影響が出ていないことを確認できる。では、最後の要素であるリストの中身を書き換えるとどうなるだろうか。"
   ]
  },
  {
   "cell_type": "code",
   "execution_count": null,
   "metadata": {},
   "outputs": [],
   "source": [
    "b[-1][0] = 0\n",
    "print(a)\n",
    "print(b)"
   ]
  },
  {
   "cell_type": "markdown",
   "metadata": {},
   "source": [
    "なんとリストの中身が変わってしまっている。これは`copy()`が**浅いコピー**であるため。つまり、**浅いコピー**とは、変数のコピーは作成するが、その変数が例えばリストの場合、**リストの中にあるオブジェクトまでコピーするわけではない**ということである。\n",
    "つまるところ、リストに対して`copy()`をしたとき、リストそのものはコピーしている(参照情報が異なる)が、その要素は参照情報のみをコピーしていることになる。"
   ]
  },
  {
   "cell_type": "code",
   "execution_count": null,
   "metadata": {},
   "outputs": [],
   "source": [
    "print(id(a)) # ここは異なる\n",
    "print(id(b))\n",
    "print(id(a[-1])) # ここは一緒\n",
    "print(id(b[-1]))"
   ]
  },
  {
   "cell_type": "markdown",
   "metadata": {},
   "source": [
    "ちなみにこれは`class`で任意のオブジェクトを自作したときでも同様の現象が起きる。"
   ]
  },
  {
   "cell_type": "code",
   "execution_count": null,
   "metadata": {},
   "outputs": [],
   "source": [
    "class test:\n",
    "    def __init__(self):\n",
    "        self.x = [0, 1, 2]\n",
    "c = test()\n",
    "print(id(c.x))\n",
    "d = copy.copy(c)\n",
    "print(id(d.x)) # 一緒になる"
   ]
  },
  {
   "cell_type": "markdown",
   "metadata": {},
   "source": [
    "これでは困る場合などがある。例えば、多重配列を破壊されたくないときとか。これを避けるのに有用なのが、`deepcopy()`である。\n",
    "実際に確かめてみよう。"
   ]
  },
  {
   "cell_type": "code",
   "execution_count": null,
   "metadata": {},
   "outputs": [],
   "source": [
    "a = [1, 4, \"text\", [3, 5, 7]]\n",
    "b = copy.deepcopy(a)\n",
    "# b = a.copy()でも可\n",
    "b[-1][0] = 0\n",
    "print(a)\n",
    "print(b)"
   ]
  },
  {
   "cell_type": "markdown",
   "metadata": {},
   "source": [
    "上記のように、`copy()`を行った場合と異なり、書き換えても元の変数の方には影響が出ていないことが確認できる。これが**深いコピー**である。\n",
    "\n",
    "まとめると浅いコピーと深いコピーの違いは以下の通りとなる。\n",
    "\n",
    "- 浅いコピーはオブジェクトをコピーするが、その中にある(リストで言えば要素)オブジェクトの参照情報は変わらない\n",
    "- 深いコピーはオブジェクトをコピーし、さらにはその中にあるオブジェクトまでコピーする"
   ]
  },
  {
   "cell_type": "markdown",
   "metadata": {},
   "source": [
    "# Python便利な組み込みパッケージ\n",
    "\n",
    "Pythonの組み込みパッケージには`math`以外にも様々な便利なパッケージがある。今回はその中の`collections`パッケージについて説明する。"
   ]
  },
  {
   "cell_type": "markdown",
   "metadata": {},
   "source": [
    "## `collections`パッケージ\n",
    "\n",
    "`collections`は様々なコレクションを含んだパッケージである。ここではその一つの`Counter`を紹介する。\n",
    "`Counter`はその名の通り、オブジェクトを数えてくれるコレクションである。"
   ]
  },
  {
   "cell_type": "code",
   "execution_count": null,
   "metadata": {},
   "outputs": [],
   "source": [
    "from collections import Counter\n",
    "\n",
    "count = Counter()"
   ]
  },
  {
   "cell_type": "markdown",
   "metadata": {},
   "source": [
    "`Counter`は初期化の際に`list`を渡すことで、その要素をカウントして保持してくれる。"
   ]
  },
  {
   "cell_type": "code",
   "execution_count": null,
   "metadata": {},
   "outputs": [],
   "source": [
    "count = Counter([\"A\", \"B\", \"A\", \"C\", \"B\"])\n",
    "print(count)"
   ]
  },
  {
   "cell_type": "markdown",
   "metadata": {},
   "source": [
    "`list`以外にも`set`や`str`も渡すことができる。"
   ]
  },
  {
   "cell_type": "code",
   "execution_count": null,
   "metadata": {},
   "outputs": [],
   "source": [
    "count = Counter({\"A\", \"B\", \"A\", \"C\", \"B\"})\n",
    "print(count)\n",
    "count = Counter(\"ABABC\")\n",
    "print(count)"
   ]
  },
  {
   "cell_type": "markdown",
   "metadata": {},
   "source": [
    "`dict`も渡すことも可能だが、その場合には`value`が整数値になっているものを渡すのがよい。\n",
    "文字列になっている場合、想定外の挙動をする可能性がある。"
   ]
  },
  {
   "cell_type": "code",
   "execution_count": null,
   "metadata": {},
   "outputs": [],
   "source": [
    "count = Counter({\n",
    "    \"A\": 2,\n",
    "    \"B\": 1,\n",
    "    \"C\": \"x\",\n",
    "    \"D\": \"u\"\n",
    "})"
   ]
  },
  {
   "cell_type": "code",
   "execution_count": null,
   "metadata": {},
   "outputs": [],
   "source": [
    "print(count)\n",
    "print(count.most_common()) # エラーが出る"
   ]
  }
 ],
 "metadata": {
  "interpreter": {
   "hash": "949777d72b0d2535278d3dc13498b2535136f6dfe0678499012e853ee9abcab1"
  },
  "kernelspec": {
   "display_name": "Python 3.9.5 64-bit",
   "name": "python3"
  },
  "language_info": {
   "codemirror_mode": {
    "name": "ipython",
    "version": 3
   },
   "file_extension": ".py",
   "mimetype": "text/x-python",
   "name": "python",
   "nbconvert_exporter": "python",
   "pygments_lexer": "ipython3",
   "version": "3.9.5"
  },
  "orig_nbformat": 4
 },
 "nbformat": 4,
 "nbformat_minor": 2
}
