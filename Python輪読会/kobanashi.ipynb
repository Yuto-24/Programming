{
 "cells": [
  {
   "cell_type": "markdown",
   "source": [
    "# 変更できるものと変更できないもの\n",
    "\n",
    "Pythonにおいて中身(数値とか)を直接変更できないものと変更できるものがある。  \n",
    "変更できないものを**immutable**、変更できるものを**mutable**と呼ぶ。\n",
    "\n",
    "immutableの例\n",
    "\n",
    "- tuple\n",
    "- str\n",
    "- int\n",
    "\n",
    "mutableの例\n",
    "\n",
    "- list\n",
    "- set\n",
    "- dict\n",
    "\n",
    "`int` はわかりづらいかもしれないが実は代入するたびに入れ替わっている。  \n",
    "次で確認してみよう。"
   ],
   "metadata": {}
  },
  {
   "cell_type": "code",
   "execution_count": 7,
   "source": [
    "a = 0 # 変数を代入\r\n",
    "print(id(a)) # 変数を識別するIDを表示"
   ],
   "outputs": [
    {
     "output_type": "stream",
     "name": "stdout",
     "text": [
      "140737003792128\n"
     ]
    }
   ],
   "metadata": {}
  },
  {
   "cell_type": "code",
   "execution_count": 8,
   "source": [
    "a = 1\r\n",
    "print(id(a)) # 違うIDが出ているので元の変数とは異なるものとなっている。"
   ],
   "outputs": [
    {
     "output_type": "stream",
     "name": "stdout",
     "text": [
      "140737003792160\n"
     ]
    }
   ],
   "metadata": {}
  },
  {
   "cell_type": "code",
   "execution_count": 9,
   "source": [
    "b = a  # 別の変数に代入してみる\r\n",
    "print(id(b)) \r\n",
    "print(id(b) == id(a))  # IDが同じか判定"
   ],
   "outputs": [
    {
     "output_type": "stream",
     "name": "stdout",
     "text": [
      "140737003792160\n",
      "True\n"
     ]
    }
   ],
   "metadata": {}
  },
  {
   "cell_type": "code",
   "execution_count": 10,
   "source": [
    "b = 2 # 改めて整数値を代入\r\n",
    "print(id(b))\r\n",
    "print(id(b) == id(a)) # 同じ変数ではなくなっている"
   ],
   "outputs": [
    {
     "output_type": "stream",
     "name": "stdout",
     "text": [
      "140737003792192\n",
      "False\n"
     ]
    }
   ],
   "metadata": {}
  },
  {
   "cell_type": "markdown",
   "source": [
    "以前取り扱ったlistについても確認してみよう。  \n",
    "list型の変数は別の変数に代入した状態で、要素を書き換えると代入先の変数も変わる。"
   ],
   "metadata": {}
  },
  {
   "cell_type": "code",
   "execution_count": 11,
   "source": [
    "c = [1, 2, 3]\r\n",
    "d = c\r\n",
    "print(\"c:\", c)\r\n",
    "print(\"d:\", d)\r\n",
    "c[0] = 4\r\n",
    "print(\"---changed---\")\r\n",
    "print(\"c:\", c)\r\n",
    "print(\"d:\", d)"
   ],
   "outputs": [
    {
     "output_type": "stream",
     "name": "stdout",
     "text": [
      "c: [1, 2, 3]\n",
      "d: [1, 2, 3]\n",
      "---changed---\n",
      "c: [4, 2, 3]\n",
      "d: [4, 2, 3]\n"
     ]
    }
   ],
   "metadata": {}
  },
  {
   "cell_type": "markdown",
   "source": [
    "上の例から考えるとIDが一緒であると思われる。  \n",
    "確認してみよう。"
   ],
   "metadata": {}
  },
  {
   "cell_type": "code",
   "execution_count": 12,
   "source": [
    "print(id(c) == id(d))"
   ],
   "outputs": [
    {
     "output_type": "stream",
     "name": "stdout",
     "text": [
      "True\n"
     ]
    }
   ],
   "metadata": {}
  },
  {
   "cell_type": "markdown",
   "source": [
    "このように元ある変数に別の変数を代入する際には、色々と気を付けるとスムーズなプログラミングができる。"
   ],
   "metadata": {}
  },
  {
   "cell_type": "markdown",
   "source": [
    "# `==`が比較しているもの\n",
    "\n",
    "今回の範囲ではとして `==` が出てきたが、似たような機能を持つ演算子として `is` がある。  \n",
    "しかし、これら2つの演算子が比較しているものは異なる。  \n",
    "`==` 演算子は値が同じかどうかを比較するが、`is` は変数そのものが同一か(`id()` の結果が同じか)どうかを比較する。"
   ],
   "metadata": {}
  },
  {
   "cell_type": "code",
   "execution_count": 13,
   "source": [
    "a = [10]\r\n",
    "b = [10]\r\n",
    "print(a == b)  # 値が同じかどうか\r\n",
    "print(a is b)  # idが同じかどうか"
   ],
   "outputs": [
    {
     "output_type": "stream",
     "name": "stdout",
     "text": [
      "True\n",
      "False\n"
     ]
    }
   ],
   "metadata": {}
  },
  {
   "cell_type": "markdown",
   "source": [
    "listについては上記で確認したように値が同じでも変数それぞれは別物として生成される。  \n",
    "しかし、immutableな型についてはその通りとは限らないので注意が必要である。"
   ],
   "metadata": {}
  },
  {
   "cell_type": "code",
   "execution_count": 14,
   "source": [
    "a = 10  # 変数aに値を代入\r\n",
    "b = 10  # 変数bに値を代入(値は同じだが違う識別番号が生成されるはず)\r\n",
    "print(a is b) # 実は同じものを参照している\r\n",
    "print(id(a))\r\n",
    "print(id(b))"
   ],
   "outputs": [
    {
     "output_type": "stream",
     "name": "stdout",
     "text": [
      "True\n",
      "140737003792448\n",
      "140737003792448\n"
     ]
    }
   ],
   "metadata": {}
  },
  {
   "cell_type": "markdown",
   "source": [
    "上記では、同じ値を代入しているがlistの例を見る限り、関数id()の結果は変わりそうだが、実際には同じところを参照している(内部的には同一のものとして取り扱っている)。  \n",
    "ではimmutableな型では値が同じであれば同じところを参照しているとして判定されるのかと言えばそうとも限らない。  \n",
    "次の例を見てみよう。"
   ],
   "metadata": {}
  },
  {
   "cell_type": "code",
   "execution_count": 15,
   "source": [
    "e = 'abc'\r\n",
    "f = 'ABC'\r\n",
    "\r\n",
    "print(e is f)  # 値が異なるので異なるidを参照していると思われる。\r\n",
    "f = f.lower()  # lower()は大文字を小文字に直す関数。これでeと同じ値になるので同じidを参照してそう\r\n",
    "print(e is f)\r\n",
    "print(id(e))\r\n",
    "print(id(f))"
   ],
   "outputs": [
    {
     "output_type": "stream",
     "name": "stdout",
     "text": [
      "False\n",
      "False\n",
      "2148600082160\n",
      "2148672166704\n"
     ]
    }
   ],
   "metadata": {}
  },
  {
   "cell_type": "markdown",
   "source": [
    "途中で変数fの文字列を小文字に直して、値を同一にしているが識別番号は異なっている。  \n",
    "つまり、immutableな型ではid()の結果が同じになったり、ならなかったりする、ということである。  \n",
    "なので基本的にis演算子を使って数値比較をするのは非推奨である。  \n",
    "ではどういう時に使い道があるかと言うと、変数の中身が`None`でないかどうか(何も無い)を確認するときに使用する。"
   ],
   "metadata": {}
  },
  {
   "cell_type": "markdown",
   "source": [
    "# セイウチ演算子を使おう(if文編)\n",
    "\n",
    "セイウチ演算子(`:=`)は変数に値を代入する**式**である。  \n",
    "通常の代入(=)と異なる点は、条件式内で使用することが可能である点である。  \n",
    "これを使うことでソースコードをすっきりと書くことができる。\n",
    "\n",
    "次のコードはlist型の変数gの中で値が7である要素が1番目にある時にOKと出力し、そうでないときにはNGと出力する。"
   ],
   "metadata": {}
  },
  {
   "cell_type": "code",
   "execution_count": 16,
   "source": [
    "g = [3, 7, 8]\r\n",
    "idx = g.index(7)  # 関数indexは引数に取った値とlist内において一番最初にマッチした要素の添え字を返す\r\n",
    "if idx == 1:\r\n",
    "    print(\"OK\")\r\n",
    "else:\r\n",
    "    print(\"NG\")"
   ],
   "outputs": [
    {
     "output_type": "stream",
     "name": "stdout",
     "text": [
      "OK\n"
     ]
    }
   ],
   "metadata": {}
  },
  {
   "cell_type": "markdown",
   "source": [
    "これをセイウチ演算子を使って書き直すと次のように書ける。"
   ],
   "metadata": {}
  },
  {
   "cell_type": "code",
   "execution_count": 17,
   "source": [
    "g = [3, 7, 8]\r\n",
    "if (idx_2 := g.index(7)) == 1:\r\n",
    "    print(\"OK\")\r\n",
    "else:\r\n",
    "    print(\"NG\")\r\n"
   ],
   "outputs": [
    {
     "output_type": "stream",
     "name": "stdout",
     "text": [
      "OK\n"
     ]
    }
   ],
   "metadata": {}
  },
  {
   "cell_type": "markdown",
   "source": [
    "これだけだとセイウチ演算子を使用するありがたみがわかりづらいかもしれない。  \n",
    "そこでわかりやすくなるように**三項演算子**を使用してみる。  \n",
    "三項演算子は、値を代入する際に条件式を利用して代入する値を変えたいときに利用する。  \n",
    "(演算子とは言っているがPythonでは記述方法について指している。他の言語では専用の演算子がある)\n",
    "\n",
    "先ほどの例に沿って三項演算子を使ってOKもしくはNGを代入するコードを下に記述した。"
   ],
   "metadata": {}
  },
  {
   "cell_type": "code",
   "execution_count": 18,
   "source": [
    "g = [3, 7, 8]\r\n",
    "idx_3 = g.index(7)\r\n",
    "result = \"OK\" if idx_3 == 1 else \"NG\"\r\n",
    "print(result)"
   ],
   "outputs": [
    {
     "output_type": "stream",
     "name": "stdout",
     "text": [
      "OK\n"
     ]
    }
   ],
   "metadata": {}
  },
  {
   "cell_type": "markdown",
   "source": [
    "セイウチ演算子を使用すると短く記述できる。"
   ],
   "metadata": {}
  },
  {
   "cell_type": "code",
   "execution_count": 19,
   "source": [
    "g = [3, 7, 8]\r\n",
    "result = \"OK\" if (idx_4 := g.index(7)) == 1 else \"NG\"\r\n",
    "print(result)"
   ],
   "outputs": [
    {
     "output_type": "stream",
     "name": "stdout",
     "text": [
      "OK\n"
     ]
    }
   ],
   "metadata": {}
  },
  {
   "cell_type": "markdown",
   "source": [
    "さらに代入式で得られた値を表示させたり代入させたりできる。"
   ],
   "metadata": {}
  },
  {
   "cell_type": "code",
   "execution_count": 20,
   "source": [
    "print(idx_5 if (idx_5 := g.index(7)) == 1 else \"NG\" )"
   ],
   "outputs": [
    {
     "output_type": "stream",
     "name": "stdout",
     "text": [
      "1\n"
     ]
    }
   ],
   "metadata": {}
  },
  {
   "cell_type": "markdown",
   "source": [
    "ただし、セイウチ演算子は代入文の代わりとして使用はできないので注意が必要"
   ],
   "metadata": {}
  },
  {
   "cell_type": "code",
   "execution_count": 21,
   "source": [
    "a := g.index(7)"
   ],
   "outputs": [
    {
     "output_type": "error",
     "ename": "SyntaxError",
     "evalue": "invalid syntax (<ipython-input-21-15d6b37a06cb>, line 1)",
     "traceback": [
      "\u001b[1;36m  File \u001b[1;32m\"<ipython-input-21-15d6b37a06cb>\"\u001b[1;36m, line \u001b[1;32m1\u001b[0m\n\u001b[1;33m    a := g.index(7)\u001b[0m\n\u001b[1;37m      ^\u001b[0m\n\u001b[1;31mSyntaxError\u001b[0m\u001b[1;31m:\u001b[0m invalid syntax\n"
     ]
    }
   ],
   "metadata": {}
  },
  {
   "cell_type": "markdown",
   "source": [
    "# セイウチ演算子を使おう(while編)\n",
    "\n",
    "上ではセイウチ演算子をif文で使用していたが、if文だけでなくwhile文でも使用が可能である。  \n",
    "特に、for文に適用できないような関数と併用することで効果を発揮する。"
   ],
   "metadata": {}
  },
  {
   "cell_type": "markdown",
   "source": [
    "## for文に適用できるもの\n",
    "\n",
    "for文に適用できるものとして書籍内では `list` や `tuple` , `dict`, `set` といったコレクションが挙げられているが、より正確には  \n",
    "**Iterableなもの**が適用可能である。これには`str`も該当している。下記の例を見てみよう。"
   ],
   "metadata": {}
  },
  {
   "cell_type": "code",
   "execution_count": null,
   "source": [
    " example = 'あいうえおかきくけこさしすせそたちつてと'\r\n",
    " for ex in example:\r\n",
    "     print(ex)"
   ],
   "outputs": [],
   "metadata": {}
  },
  {
   "cell_type": "markdown",
   "source": [
    "以上のようにstrもIterableなので、in以降に指定してあげると一文字ずつ取り出すことが可能となる。  \n",
    "他にもIterableなものとしてはrangeがある。これは書籍内では関数と言われているが、正確ではなく、  \n",
    "**`range`型**を返すコンストラクタ(`dict()`と同様のもの)です。"
   ],
   "metadata": {}
  },
  {
   "cell_type": "markdown",
   "source": [
    "## while文で使うもの\n",
    "\n",
    "for文を使う場合というのは、繰り返しの回数が把握できている場合、もしくはIterableなものを参照する場合である。\n",
    "逆に言えば、あまりfor文を使う場合に適さないのは繰り返しの回数を把握できなかったり、Iterableなものを参照しない・できない場合であり、  \n",
    "そういう時にはwhile文を使用することが多い。  \n",
    "とくにPythonの場合、ファイルの読み込みを行う時に使用する。  \n",
    "まず、ファイルの読み込みの仕方を見てみよう。"
   ],
   "metadata": {}
  },
  {
   "cell_type": "markdown",
   "source": [
    "ファイルの読み込みには`open`関数とwith構文を使用する。\n",
    "with構文は以下の形で使用する。\n",
    "\n",
    "```python \n",
    "with 前処理関数 as 前処理関数から返される値を受け取る変数\n",
    "    処理内容\n",
    "``` \n",
    "open関数の場合は次のように書く。\n",
    "open関数の引数には読み込みたいファイル名をstr型で指定する。"
   ],
   "metadata": {}
  },
  {
   "cell_type": "code",
   "execution_count": null,
   "source": [
    "with open(\"example.txt\") as f: # ちなみに、書き込みを行うのか読み込むだけなのか、\r\n",
    "                               # どの文字コードで読み込むのかなどの指定もできるが今回は省略\r\n",
    "    # ここのブロック内に開いたファイルに対する処理を記述する。\r\n",
    "    ...\r\n",
    "# ちなみにwith構文を書かずに使用することが可能だが、その場合には以下のように書く。\r\n",
    "# f = open(\"example.txt\")\r\n",
    "# 処理内容\r\n",
    "# f.close()"
   ],
   "outputs": [],
   "metadata": {}
  },
  {
   "cell_type": "markdown",
   "source": [
    "ここで読み込む`example.txt`の中身は次のようなものである。\n",
    "\n",
    "```text\n",
    "123\n",
    "456\n",
    "789\n",
    "101112\n",
    "```\n",
    "\n",
    "このテキストを一行ずつ取り出したい。\n",
    "\n",
    "セイウチ演算子を使わない場合には次のように書く。"
   ],
   "metadata": {}
  },
  {
   "cell_type": "code",
   "execution_count": null,
   "source": [
    "with open(\"example.txt\") as f:\r\n",
    "    line = f.readline()  # 一行ずつ取り出す関数\r\n",
    "    while line:\r\n",
    "        print(line)  # 改行文字ごと読み込んでいるので表示すると一行ずつ空いているように見える\r\n",
    "        line = f.readline()  # 読み込めない場合にはNoneを返す"
   ],
   "outputs": [],
   "metadata": {}
  },
  {
   "cell_type": "markdown",
   "source": [
    "上のコードの面倒な点は最後の`line = f.readline()`の部分である。  \n",
    "この関数は読み込んだファイルを一行ずつ取り出す関数であるが、Iterabaleなものではないため、for文の適用ができない。  \n",
    "(これはファイル読み込みの仕様によるもので、解説には別の解説が必要なためIterableでない理由は省く)\n",
    "\n",
    "また、`readline()`は取り出せるものがなくなった、つまりはファイルの最後まで読み込んだ場合には  \n",
    "`None`を返す。`None`は条件式の中では`False`として判定されるので、それを利用して上のコードでは\n",
    "繰り返しを出る条件としている。\n",
    "\n",
    "これの面倒な点として、最後の`line = f.readline()`を書き忘れた場合、変数`line`の中身が更新されないので  \n",
    "無限ループにはまってしまう。これを解消する方法としてセイウチ演算子が活用できる。"
   ],
   "metadata": {}
  },
  {
   "cell_type": "code",
   "execution_count": null,
   "source": [
    "with open(\"example.txt\") as f:\r\n",
    "    while line := f.readline() :\r\n",
    "        print(line)\r\n",
    "# ちなみにwhilieの前のreadline()を削除した理由は、whilie文の条件式が評価される際に読み込みが起きてしまうため。\r\n",
    "# つまり、while文の前にreadline()があった場合には2回読み込んでしまうので、最初の行が表示されなくなってしまう。"
   ],
   "outputs": [],
   "metadata": {}
  },
  {
   "cell_type": "markdown",
   "source": [
    "以上のように、セイウチ演算子を使用することでコードの圧縮をするだけでなく、  \n",
    "無限ループを回避する、ループごとの変数の代入を行えるなど、汎用性は高いので  \n",
    "使えるタイミングでは積極的に使うと良い。"
   ],
   "metadata": {}
  },
  {
   "cell_type": "markdown",
   "source": [
    "# リスト内包表記\n",
    "\n",
    "リストを作成する際にfor文、もしくはwhile文を使用することが多い。  \n",
    "しかし、繰り返しのブロックを作成し、その中で `append` 関数を使用して記述するのは  \n",
    "実装上、効率は良くない。そこで活躍するのがリスト内包表記である。  "
   ],
   "metadata": {}
  },
  {
   "cell_type": "markdown",
   "source": [
    "今回は学生のテストの点数のリストを作る、という体で進めていこう。  \n",
    "まずは学生の人数を適当に決定する。"
   ],
   "metadata": {}
  },
  {
   "cell_type": "code",
   "execution_count": null,
   "source": [
    "student_num = 4"
   ],
   "outputs": [],
   "metadata": {}
  },
  {
   "cell_type": "markdown",
   "source": [
    "そして学生ごとのテストの点数を入力し、そのリストを作成するコードは以下の通り。"
   ],
   "metadata": {}
  },
  {
   "cell_type": "code",
   "execution_count": null,
   "source": [
    "score_list = []\r\n",
    "for _ in range(student_num):  # 繰り返しの際に使用することのない繰り返し用の変数は“_”で書くことが通例\r\n",
    "    score_list.append(\r\n",
    "        int(input(\"What's score?: \"))\r\n",
    "    )"
   ],
   "outputs": [],
   "metadata": {}
  },
  {
   "cell_type": "markdown",
   "source": [
    "これで問題はないのだが、これが1万人の生徒のデータのリストを作成する、ということになったとき、  \n",
    "`append()`では実行速度が遅くなる傾向にある。(そもそも1万人分のデータを手打ちすることはないだろうが)\n",
    "\n",
    "そこで、活躍するのが**リスト内包表記**である。  \n",
    "これの書き方は以下の通りである。\n",
    "\n",
    "```\n",
    "変数 = [繰り返しの中の処理の結果や変数 for 繰り返し変数 in Iterableな変数]\n",
    "```\n",
    "\n",
    "これを上のコードに適用すると、次のコードのように書ける。"
   ],
   "metadata": {}
  },
  {
   "cell_type": "code",
   "execution_count": null,
   "source": [
    "score_list = [int(input(\"What's score?: \")) for _ in range(student_num)]\r\n",
    "# 内包表記"
   ],
   "outputs": [],
   "metadata": {}
  },
  {
   "cell_type": "code",
   "execution_count": null,
   "source": [
    "print(score_list)"
   ],
   "outputs": [],
   "metadata": {}
  },
  {
   "cell_type": "markdown",
   "source": [
    "また、リスト内包表記にはif-else文も書ける。内包表記にif-else文を書く場合にはforの前に書く。"
   ],
   "metadata": {}
  },
  {
   "cell_type": "code",
   "execution_count": null,
   "source": [
    "result = [\"合格\" if score > 25 else \"不合格\" for score in score_list]\r\n",
    "print(result)"
   ],
   "outputs": [],
   "metadata": {}
  },
  {
   "cell_type": "markdown",
   "source": [
    "ただ、if文の場合には注意が必要である。if文の場合はforの後に条件を書く。"
   ],
   "metadata": {}
  },
  {
   "cell_type": "code",
   "execution_count": null,
   "source": [
    "ok_student = [r for r in result if r == \"合格\"]\r\n",
    "print(ok_student)"
   ],
   "outputs": [],
   "metadata": {}
  },
  {
   "cell_type": "markdown",
   "source": [
    "# 明示的型付け\n",
    "\n",
    "Pythonでは変数を宣言するとき、その変数の型は何なのか明確に書く必要はない。  \n",
    "これはPythonは動的型付けと呼ばれる、プログラムの実行時に変数の値から、その型を  \n",
    "決定する方法を取っている言語だからである。(他にはJavaScriptやRubyが該当)  \n",
    "対して、変数の型をコード内に明示的に書き、そこから変数の方を決めるのを静的型付けという。  \n",
    "(これにはC言語やJavaが該当)\n",
    "\n",
    "以前では、動的型付けをする言語では実行速度が遅いなどの問題が挙げられていたが、\n",
    "現在ではある程度解決されているらしい。  \n",
    "とはいえ、大きなサイズのコードを書いていくと、「この関数はどのような型の変数を取って、どのような型の返り値を持つのか」  \n",
    "と自分の書いたコードがわからなくなってくる。  \n",
    "これを回避するためにPythonでは変数の型を明示するための書き方が存在する。\n",
    "書き方は以下の通り。\n",
    "\n",
    "```python\n",
    "変数: 変数の型\n",
    "```\n",
    "\n",
    "まずは以下の関数を見てみよう。"
   ],
   "metadata": {}
  },
  {
   "cell_type": "code",
   "execution_count": null,
   "source": [
    "def output_sum(x, y):\r\n",
    "    answer = x + y\r\n",
    "\r\n",
    "    return answer"
   ],
   "outputs": [],
   "metadata": {}
  },
  {
   "cell_type": "markdown",
   "source": [
    "この関数は整数を2つとり、その和を返す関数である、ということを想定した関数だ。  \n",
    "これに対して、明示的に型付けをしていこう。まずは2つ引数に型付けをしよう。  \n",
    "これら2つの引数は整数、つまりは`int`型の引数であるので次のように書く。"
   ],
   "metadata": {}
  },
  {
   "cell_type": "code",
   "execution_count": null,
   "source": [
    "def output_sum(x: int, y: int):\r\n",
    "    answer = x + y\r\n",
    "\r\n",
    "    return answer"
   ],
   "outputs": [],
   "metadata": {}
  },
  {
   "cell_type": "markdown",
   "source": [
    "また、返り値である`answer`にも型付けをしよう。  \n",
    "これも整数であるのでint型であることを明示する。"
   ],
   "metadata": {}
  },
  {
   "cell_type": "code",
   "execution_count": null,
   "source": [
    "def output_sum(x: int, y: int):\r\n",
    "    answer: int = x + y\r\n",
    "\r\n",
    "    return answer"
   ],
   "outputs": [],
   "metadata": {}
  },
  {
   "cell_type": "markdown",
   "source": [
    "これでも問題はないのだが、このままだと関数の中身を見るまで、どんな型の値が  \n",
    "返ってくるかわからない。なので、返り値の型を先に明示する方法が存在する。\n",
    "これは次の通りに書く。\n",
    "```python\n",
    "def 関数名(引数) -> 返り値の型:\n",
    "    ...  # 省略\n",
    "```\n",
    "上の例を書き換えてみよう。"
   ],
   "metadata": {}
  },
  {
   "cell_type": "code",
   "execution_count": null,
   "source": [
    "def output_sum(x: int, y: int) -> int:\r\n",
    "    answer: int = x + y\r\n",
    "\r\n",
    "    return answer"
   ],
   "outputs": [],
   "metadata": {}
  },
  {
   "cell_type": "markdown",
   "source": [
    "今回はint型を取り扱ったが、listなどのコレクションに含まれる型を明示する際には  \n",
    "次のように書く。\n",
    "```python\n",
    "exList: list[int]  # リストに含まれる要素の型を[]内に書く\n",
    "exList2: list[str]\n",
    "exList3: dict[str, int]  # dictの場合は[キーの型, バリューの型]と書く\n",
    "```"
   ],
   "metadata": {}
  },
  {
   "cell_type": "markdown",
   "source": [
    "明示的型付けにおいて注意してほしいのはPythonにおいては\n",
    "**プログラムの実行において何も影響しないことである。**  \n",
    "\n",
    "実際に上のプログラムにint以外の値を渡してみよう。"
   ],
   "metadata": {}
  },
  {
   "cell_type": "code",
   "execution_count": null,
   "source": [
    "print(output_sum(\"abc\", \"def\"))\r\n"
   ],
   "outputs": [],
   "metadata": {}
  },
  {
   "cell_type": "markdown",
   "source": [
    "実行自体には何らエラーは出力されない。  \n",
    "つまり、Pythonにおける明示的型付けはコードを書く・読む人間が読みやすくするためだけの  \n",
    "機能である。しかし、この機能は非常に重要で、読みやすくするだけでなく、コード補完ツールにおいては  \n",
    "型付けを読み込み、表示してくれるなど、作業の円滑化を促す機能なので、覚えておいて損はない機能である。"
   ],
   "metadata": {}
  },
  {
   "cell_type": "markdown",
   "source": [
    "# 関数の引数・戻り値の挙動について\n",
    "\n",
    "多くのプログラミング言語において関数を実行する際、関数の引数を通して  \n",
    "関数に値を渡す際の渡し方には2種類ある。\n",
    "\n",
    "1. 値渡し\n",
    "2. 参照渡し\n",
    "\n",
    "値渡しは引数に指定された変数の値をコピーして関数側に渡す方法、  \n",
    "参照渡しは引数に指定された変数の参照情報を関数側に渡す方法である. \n",
    "\n",
    "Pythonにおいては基本的には参照渡しのみを使用している。  \n",
    "`id()`を使って確認してみよう。"
   ],
   "metadata": {}
  },
  {
   "cell_type": "markdown",
   "source": [
    "次のコードは引数のid(参照情報)を確認する関数である。  \n",
    "これを使って値渡しが起きているのか、参照渡しが起きているのか確認しよう。"
   ],
   "metadata": {}
  },
  {
   "cell_type": "code",
   "execution_count": null,
   "source": [
    "def check_var_id(variable):\r\n",
    "    print(id(variable))\r\n",
    "\r\n",
    "    return variable"
   ],
   "outputs": [],
   "metadata": {}
  },
  {
   "cell_type": "markdown",
   "source": [
    "まずはimmutableな型である`int`で確認してみよう。"
   ],
   "metadata": {}
  },
  {
   "cell_type": "code",
   "execution_count": null,
   "source": [
    "test1 = 10\r\n",
    "print(\"test:\", id(test1))\r\n",
    "result1 = check_var_id(test1)\r\n",
    "print(\"return:\", id(result1))"
   ],
   "outputs": [],
   "metadata": {}
  },
  {
   "cell_type": "markdown",
   "source": [
    "idが変わっていない、つまりは参照情報に変更が起きていないことがわかる。  \n",
    "さらにmutableな型である`list`でも確認しよう。"
   ],
   "metadata": {}
  },
  {
   "cell_type": "code",
   "execution_count": null,
   "source": [
    "test2 = [0, 1, 2]\r\n",
    "print(\"test\", id(test2))\r\n",
    "result2 = check_var_id(test2)\r\n",
    "print(\"result:\", id(result2))"
   ],
   "outputs": [],
   "metadata": {}
  },
  {
   "cell_type": "markdown",
   "source": [
    "こちらでもidが変わっていないことを確認できた。  \n",
    "つまり、参照渡しが起きている。\n",
    "\n",
    "また、もう一つわかることとして、戻り値も参照渡しで戻ってきていることが確認できる。  \n",
    "上の実行結果で戻り値のidも変わっていないことがわかると思う。\n",
    "\n",
    "つまり、Pythonの関数において引数として値を渡す際にも、戻り値として値を受け取る際にも  \n",
    "内部でやり取りしているのは値の参照情報である。  \n",
    "言ってしまえば、変数名を含んだ変数そのものをやり取りしているのではない、ということである。  \n",
    "(なので、仮引数名と実引数名は一緒である必要はないし、戻り値の変数名と受け取る変数の変数名は一緒である必要はない。   \n",
    "これについては値渡しも同じ。コピーされた値のみをやり取りしているだけなので。)\n",
    "\n"
   ],
   "metadata": {}
  },
  {
   "cell_type": "markdown",
   "source": [
    "# グローバル変数とローカル変数の切り替え\n",
    "\n",
    "今回の範囲で、ローカル変数は関数の外から参照できない、ということと  \n",
    "グローバル変数は関数から参照できることを学んだ。  \n",
    "今回のようにローカル変数を参照できる範囲は限定されており、これをスコープという。\n",
    "\n",
    "Pythonには3段階のスコープが存在している。\n",
    "\n",
    "1. ローカルスコープ: 関数内の変数を参照できる範囲\n",
    "2. グローバルスコープ: ソースコードプログラム内で参照できる範囲\n",
    "3. ビルトインスコープ: 組み込み関数などを参照するために必要な範囲\n",
    "\n",
    "ビルトインスコープは基本的には気にしなくて問題はないが、グローバルスコープと  \n",
    "ローカルスコープについては注意が必要である。特に、ローカルスコープ内と  \n",
    "グローバルスコープ内で同じ名前で宣言した変数には取り扱いが重要である。\n",
    "\n",
    "テキストでは実例として、グローバルスコープにあたる変数をローカルスコープから利用した例が2つ出た。\n",
    "復習として確認しよう。"
   ],
   "metadata": {}
  },
  {
   "cell_type": "markdown",
   "source": [
    "まず1つ目がグローバル変数に代入を行おうとして書き換えようとしたケースである。  \n",
    "これを次のコードで再現しよう。"
   ],
   "metadata": {}
  },
  {
   "cell_type": "code",
   "execution_count": null,
   "source": [
    "global_int = 0\r\n",
    "def change_value():\r\n",
    "    global_int = 1\r\n",
    "    print(global_int)\r\n",
    "change_value()\r\n",
    "print(global_int)"
   ],
   "outputs": [],
   "metadata": {}
  },
  {
   "cell_type": "markdown",
   "source": [
    "テキストの例と同じようにグローバル変数の値は変化しなかった。  \n",
    "このことから、**関数内の`global_int`はローカル変数であり、別物として扱われている**ということがわかる。  \n",
    "(つまり参照情報が異なっている、ということ)  \n",
    "\n",
    "もう一つの例として、関数内でグローバル変数を直接参照できてしまった場合がある。  \n",
    "次のコードで確認しよう。"
   ],
   "metadata": {}
  },
  {
   "cell_type": "code",
   "execution_count": null,
   "source": [
    "global_str = \"abc\"\r\n",
    "def refer_value():\r\n",
    "    print(\"Refference {}\".format(global_str))\r\n",
    "refer_value()"
   ],
   "outputs": [],
   "metadata": {}
  },
  {
   "cell_type": "markdown",
   "source": [
    "この場合は、関数内で`global_str`は宣言されていないにも拘らず、動作していることが確認できた。  \n",
    "このことから、**関数内の`global_str`はグローバル変数のそれと同じものとして扱われている**ということがわかる。\n",
    "(参照情報が同じ)\n",
    "\n",
    "以上の2パターンが発生する条件はいったい何だろうか。\n",
    "リストを例として見てみよう。"
   ],
   "metadata": {}
  },
  {
   "cell_type": "code",
   "execution_count": null,
   "source": [
    "global_list = [0, 1, 2]\r\n",
    "def change_list_1():\r\n",
    "    global_list = []\r\n",
    "    print(global_list)\r\n",
    "change_list_1()\r\n",
    "print(global_list)"
   ],
   "outputs": [],
   "metadata": {}
  },
  {
   "cell_type": "code",
   "execution_count": null,
   "source": [
    "global_list_2 = [3, 4, 5]\r\n",
    "def change_list_2():\r\n",
    "    global_list_2.append(6)\r\n",
    "    print(global_list_2)\r\n",
    "change_list_2()\r\n",
    "print(global_list_2)"
   ],
   "outputs": [],
   "metadata": {}
  },
  {
   "cell_type": "markdown",
   "source": [
    "以上を見てもらえるとわかるように、ローカル変数として扱われるのは代入を行ったときであり、\n",
    "それ以外の時においてグローバル変数として扱われる。\n",
    "\n",
    "このように同名の変数を関数内で扱う場合には、それがグローバル変数になるのか、ローカル変数として\n",
    "扱われるのか把握し、注意を払う必要がある。"
   ],
   "metadata": {}
  },
  {
   "cell_type": "markdown",
   "source": [
    "# 繰り返しと関数\n",
    "\n",
    "関数を書いている中で、繰り返しの中で各ループごとに値を返してもらいたいときがある。  \n",
    "例えば、リストの中身を累乗して返してもらったりなどなど。  \n",
    "\n",
    "このとき、`return`の代わりに`yield`が役に立つ。  \n",
    "`yield`は繰り返しの中で使用し、使用することでIterableな関数(正確にはGeneratorと呼ばれるもの)になる。  \n",
    "基本的に`yield`を使った関数はfor文の中で使用する。  \n",
    "実際の使用例を次の関数で見てみよう。"
   ],
   "metadata": {}
  },
  {
   "cell_type": "code",
   "execution_count": null,
   "source": [
    "def testYield(*args: int):\r\n",
    "    for a in args:\r\n",
    "        yield a**2\r\n",
    "\r\n",
    "for sq in testYield(3, 4, 6, 8, 9):\r\n",
    "    print(sq)"
   ],
   "outputs": [],
   "metadata": {}
  },
  {
   "cell_type": "markdown",
   "source": [
    "上記のコードを実行するとわかるが、繰り返しの変数`sq`に戻り値が格納されているのがわかる。  \n",
    "ちなみに、次のような使い方もできる。"
   ],
   "metadata": {}
  },
  {
   "cell_type": "code",
   "execution_count": null,
   "source": [
    "print(list(testYield(2, 3, 4, 5)))  # リストへ変換\r\n",
    "gen = testYield(9, 8, 7, 6)  # 変数に代入して\r\n",
    "for g in gen:  # for文に入れることもできる\r\n",
    "    print(g)"
   ],
   "outputs": [],
   "metadata": {}
  }
 ],
 "metadata": {
  "orig_nbformat": 4,
  "language_info": {
   "name": "python",
   "version": "3.8.5",
   "mimetype": "text/x-python",
   "codemirror_mode": {
    "name": "ipython",
    "version": 3
   },
   "pygments_lexer": "ipython3",
   "nbconvert_exporter": "python",
   "file_extension": ".py"
  },
  "kernelspec": {
   "name": "python3",
   "display_name": "Python 3.8.5 64-bit ('base': conda)"
  },
  "interpreter": {
   "hash": "b3ba2566441a7c06988d0923437866b63cedc61552a5af99d1f4fb67d367b25f"
  }
 },
 "nbformat": 4,
 "nbformat_minor": 2
}