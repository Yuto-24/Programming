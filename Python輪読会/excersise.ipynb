{
 "cells": [
  {
   "cell_type": "markdown",
   "metadata": {},
   "source": [
    "# 演習1\n",
    "ユークリッドの互除法を実装する. \n",
    "ユークリッドの互除法は以下の手順で実行される.\n",
    "\n",
    "1. 自然数 $m, n (m \\ge n)$ を入力する.\n",
    "2. $n = 0$ なら, $m$ を出力して終了\n",
    "3. $m$ を $n$ を割ったときの剰余を $n$ として更新し, 元の $n$ を $m$ として更新して, 2に戻る."
   ]
  },
  {
   "cell_type": "code",
   "execution_count": 10,
   "metadata": {},
   "outputs": [
    {
     "name": "stdout",
     "output_type": "stream",
     "text": [
      "1071 1029\n"
     ]
    }
   ],
   "source": [
    "m = input('input: M')\n",
    "m = int(m)\n",
    "n = input('input: N')\n",
    "n = int(n)\n",
    "if n >= m: # 一応条件を満たすようにスワップする部分も実装\n",
    "    tmp = m\n",
    "    m = n\n",
    "    n = tmp\n",
    "\n",
    "print(m, n)"
   ]
  },
  {
   "cell_type": "code",
   "execution_count": 11,
   "metadata": {},
   "outputs": [
    {
     "name": "stdout",
     "output_type": "stream",
     "text": [
      "21\n"
     ]
    }
   ],
   "source": [
    "while n != 0:\n",
    "    tmp = m % n  # mとnの剰余を一時保持して\n",
    "    m = n  # mを更新してから\n",
    "    n = tmp  # nを剰余で更新\n",
    "print(m)"
   ]
  },
  {
   "cell_type": "markdown",
   "metadata": {},
   "source": [
    "# 演習2\n",
    "エラトステネスの篩は以下の手順を実装する\n",
    "\n",
    "1. 指定された整数 $x$ 分の要素を持つ`list`を用意して, 1番目を`False`として, 2番目以降は`True`とする.\n",
    "2. 先頭から順に走査を行い, `True`である要素の添字 $p$ を素数の一覧に追加し, $p^2$ 以上の $p$ の倍数の添字の要素を`False`にする\n",
    "3. 手順1と2を $x$ の平方根以下の整数まで繰り返す.\n",
    "4. 手順3終了時点で, `True`の要素を持つ添字を素数一覧に追加して, 終了\n"
   ]
  },
  {
   "cell_type": "code",
   "execution_count": 12,
   "metadata": {},
   "outputs": [],
   "source": [
    "def eratosthens():\n",
    "    x = input()\n",
    "    x = int(x)\n",
    "\n",
    "    numbers = [True] * x  \n",
    "    numbers[0] = False  # 1は素数ではないためFalseにする\n",
    "\n",
    "    limit = int(x**0.5)  # 手順3における上限を設定\n",
    "    primes = []\n",
    "    for i in range(1, limit+1):  # 手順1と2\n",
    "        if numbers[i]:\n",
    "            primes.append(i+1)\n",
    "            for j in range((i+1)**2-1, len(numbers), i+1):\n",
    "                numbers[j] = False\n",
    "        else:\n",
    "            continue\n",
    "    primes += [i+1 for i, n in enumerate(numbers[limit+1:], start=limit+1) if n]  # 手順4: リスト内包表記でリスト化して, primesと結合\n",
    "    return primes\n",
    "    "
   ]
  },
  {
   "cell_type": "code",
   "execution_count": 13,
   "metadata": {},
   "outputs": [
    {
     "name": "stdout",
     "output_type": "stream",
     "text": [
      "[2, 3, 5, 7, 11, 13, 17, 19, 23, 29, 31, 37, 41, 43, 47, 53, 59, 61, 67, 71, 73, 79, 83, 89, 97, 101, 103, 107, 109, 113]\n"
     ]
    }
   ],
   "source": [
    "print(eratosthens())"
   ]
  },
  {
   "cell_type": "markdown",
   "metadata": {},
   "source": [
    "# 演習3\n",
    "確率 $p$ で手に入るガチャのアイテムについて各種確率を計算するクラスを実装する問題\n",
    "実装するものは以下の通り\n",
    "\n",
    "1. 1個も手に入らない確率\n",
    "2. 1個以上手に入る確率\n",
    "3. $M$個ちょうど手に入る確率\n",
    "4. 手に入る数の期待値\n",
    "\n",
    "問題の詳細はSlack上にアップロードしたPDFを参照すること\n",
    "\n",
    "今回の例では一部の計算を関数化しているが, 可視化処理も大まかな流れは共通なのでこれらも関数化可能である. \n",
    "しかし, 細かい計算については異なるので単純に関数化はできない. そこで役に立つのが糖衣構文であるが, 範囲外なので今回の解説には用いなかった. \n",
    "各自興味があれば調査し, 実装をしてみることを強く推奨する."
   ]
  },
  {
   "cell_type": "code",
   "execution_count": null,
   "metadata": {},
   "outputs": [],
   "source": [
    "from math import factorial\n",
    "from matplotlib import pyplot as plt\n",
    "\n",
    "class gachasimu():\n",
    "\n",
    "    def __init__(self, p) -> None:\n",
    "        self.p = p\n",
    "\n",
    "    def faultProb(self, N):\n",
    "        return (1-self.p)**N\n",
    "\n",
    "    def bicon(self, N, M):\n",
    "        return factorial(N) / (factorial(M)*factorial(N-M))\n",
    "    \n",
    "    def no_get_prob(self, N, visualize=False):\n",
    "        if visualize:\n",
    "            X = list(range(0, N+1))\n",
    "            probs = [self.faultProb(x) for x in X]\n",
    "            plt.plot(X, probs)\n",
    "            plt.show()\n",
    "        else:\n",
    "            print(self.faultProb(N))\n",
    "    \n",
    "    def get_prob(self, N, visualize=False):\n",
    "        if visualize:\n",
    "            X = list(range(0, N+1))\n",
    "            probs = [1-self.faultProb(x) for x in X]\n",
    "            plt.plot(X, probs)\n",
    "            plt.show()\n",
    "        else:\n",
    "            print(1-self.faultProb(N))\n",
    "        \n",
    "    def m_get_prob(self, N, M, visualize=False):\n",
    "        if visualize:\n",
    "            X = list(range(M, N+1))\n",
    "            probs = [self.bicon(x, M)*(self.p**M)*(self.faultProb(x-M)) for x in X]\n",
    "            plt.plot(X, probs)\n",
    "            plt.show()\n",
    "        else:\n",
    "            print(self.bicon(N, M)*(self.p**M)*(self.faultProb(N-M)))\n",
    "    \n",
    "    def mean_count(self, N, visualize=False):\n",
    "        if visualize:\n",
    "            X = list(range(1, N+1))\n",
    "            means = [sum(\n",
    "                [m * self.bicon(x, m)*(self.p**m)*(self.faultProb(x-m)) for m in range(1, x+1)]\n",
    "            ) for x in X]\n",
    "            plt.plot(X, means)\n",
    "            plt.show()\n",
    "        else:\n",
    "            print(\n",
    "                sum([m * self.bicon(N, m) * (self.p**m) * (self.faultProb(N-m)) for m in range(1, N+1)])\n",
    "            )"
   ]
  },
  {
   "cell_type": "code",
   "execution_count": 19,
   "metadata": {},
   "outputs": [
    {
     "data": {
      "image/png": "[encoded data removed]",
      "text/plain": [
       "<Figure size 432x288 with 1 Axes>"
      ]
     },
     "metadata": {
      "needs_background": "light"
     },
     "output_type": "display_data"
    }
   ],
   "source": [
    "simulator = gachasimu(0.003)\n",
    "simulator.m_get_prob(200, 1, visualize=True)\n"
   ]
  }
 ],
 "metadata": {
  "interpreter": {
   "hash": "b89e850b461c350bb5a649650b098859cfe720d80bec7afd2bb1898fc1c64b42"
  },
  "kernelspec": {
   "display_name": "Python 3.9.1 64-bit",
   "language": "python",
   "name": "python3"
  },
  "language_info": {
   "codemirror_mode": {
    "name": "ipython",
    "version": 3
   },
   "file_extension": ".py",
   "mimetype": "text/x-python",
   "name": "python",
   "nbconvert_exporter": "python",
   "pygments_lexer": "ipython3",
   "version": "3.9.5"
  },
  "orig_nbformat": 4
 },
 "nbformat": 4,
 "nbformat_minor": 2
}
