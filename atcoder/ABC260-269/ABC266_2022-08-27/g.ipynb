{
 "cells": [
  {
   "cell_type": "code",
   "execution_count": 24,
   "metadata": {},
   "outputs": [
    {
     "name": "stdout",
     "output_type": "stream",
     "text": [
      "2000000\n",
      "80957240\n"
     ]
    }
   ],
   "source": [
    "import math\n",
    "def comb(n, r):\n",
    "    return math.factorial(n) // (math.factorial(n - r) * math.factorial(r))\n",
    "\n",
    "# s = list(map(int, input().split()))\n",
    "# s = [2, 1, 1, 1]\n",
    "s = [1000000, 1000000, 1000000, 1000000]\n",
    "sum = 0\n",
    "s[0] -= s[3]\n",
    "s[1] -= s[3]\n",
    "\n",
    "for i in range(len(s)):\n",
    "\tsum += s[i]\n",
    "\n",
    "print(sum)\n",
    "print(math.factorial(sum) / math.factorial(s[0]) / math.factorial(s[1]) / math.factorial(s[2]))\n",
    "print((comb(sum, s[0]) * comb(sum - s[0], s[1]) * comb(sum - s[0] - s[1], s[2])) % 998244353)"
   ]
  }
 ],
 "metadata": {
  "kernelspec": {
   "display_name": "Python 3.8.8 ('base')",
   "language": "python",
   "name": "python3"
  },
  "language_info": {
   "name": "python",
   "version": "3.8.8"
  },
  "orig_nbformat": 4,
  "vscode": {
   "interpreter": {
    "hash": "ad2bdc8ecc057115af97d19610ffacc2b4e99fae6737bb82f5d7fb13d2f2c186"
   }
  }
 },
 "nbformat": 4,
 "nbformat_minor": 2
}
